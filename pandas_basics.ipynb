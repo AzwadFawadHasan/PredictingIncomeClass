{
 "cells": [
  {
   "cell_type": "markdown",
   "id": "99852b8c-6bee-41cb-87ae-a78c80a11aa1",
   "metadata": {},
   "source": [
    "What is a Series?\n",
    "A Pandas Series is like a column in a table.\n",
    "\n",
    "It is a one-dimensional array holding data of any type."
   ]
  },
  {
   "cell_type": "code",
   "execution_count": 14,
   "id": "ea50d44c-142f-477c-8904-37862125947c",
   "metadata": {},
   "outputs": [
    {
     "name": "stdout",
     "output_type": "stream",
     "text": [
      "[1, 7, 2]\n",
      "0    1\n",
      "1    7\n",
      "2    2\n",
      "dtype: int64\n"
     ]
    }
   ],
   "source": [
    "import pandas as pd\n",
    "\n",
    "a = [1, 7, 2]\n",
    "print(a)\n",
    "myvar = pd.Series(a)\n",
    "\n",
    "print(myvar)"
   ]
  },
  {
   "cell_type": "code",
   "execution_count": 8,
   "id": "17ba1133-f9b9-422c-96ea-ba7259080eb1",
   "metadata": {},
   "outputs": [
    {
     "name": "stdout",
     "output_type": "stream",
     "text": [
      "1\n"
     ]
    }
   ],
   "source": [
    "print(myvar[0])"
   ]
  },
  {
   "cell_type": "code",
   "execution_count": 20,
   "id": "2afbc552-be77-4855-963e-fe3d7243f17e",
   "metadata": {},
   "outputs": [],
   "source": [
    "# renamiing 0,1,2,3 serial no# into abcs\n",
    "#here these serial no. are called labels\n",
    "newseries = pd.Series(a, index= ['a','b','c'])"
   ]
  },
  {
   "cell_type": "code",
   "execution_count": 21,
   "id": "f0d2bc63-80e4-4a90-9df9-f2527912aec5",
   "metadata": {},
   "outputs": [
    {
     "name": "stdout",
     "output_type": "stream",
     "text": [
      "a    1\n",
      "b    7\n",
      "c    2\n",
      "dtype: int64\n"
     ]
    }
   ],
   "source": [
    "print(newseries)"
   ]
  },
  {
   "cell_type": "code",
   "execution_count": 22,
   "id": "d0734b3d-3137-43cc-8872-35c20a4f2e35",
   "metadata": {},
   "outputs": [
    {
     "name": "stdout",
     "output_type": "stream",
     "text": [
      "7\n"
     ]
    }
   ],
   "source": [
    "print(newseries['b'])"
   ]
  },
  {
   "cell_type": "markdown",
   "id": "79fa5cb3-e5b2-4eb8-b69b-a7dfc1332ab5",
   "metadata": {},
   "source": [
    "Key Value as series\n"
   ]
  },
  {
   "cell_type": "code",
   "execution_count": 29,
   "id": "02c96bf8-e210-49ff-85ac-a780d7463bc3",
   "metadata": {},
   "outputs": [],
   "source": [
    "my_dic = {\n",
    "    'fruits': ['apple', 'orange'],\n",
    "    'cars' : ['suv', 'sedan']\n",
    "}"
   ]
  },
  {
   "cell_type": "code",
   "execution_count": 30,
   "id": "10218652-c5bb-4c67-b854-c8108a3bdb22",
   "metadata": {},
   "outputs": [],
   "source": [
    "my_dic_series = pd.Series(my_dic)"
   ]
  },
  {
   "cell_type": "code",
   "execution_count": 31,
   "id": "25833c80-5651-4c61-82bb-15857033220d",
   "metadata": {},
   "outputs": [
    {
     "name": "stdout",
     "output_type": "stream",
     "text": [
      "fruits    [apple, orange]\n",
      "cars         [suv, sedan]\n",
      "dtype: object\n"
     ]
    }
   ],
   "source": [
    "print(my_dic_series\n",
    "     )#keys become lables"
   ]
  },
  {
   "cell_type": "markdown",
   "id": "c8539186-e4c3-48c3-a3f0-8e6158853570",
   "metadata": {},
   "source": [
    "DataFrames\n",
    "Data sets in Pandas are usually multi-dimensional tables, called DataFrames.\n",
    "\n",
    "Series is like a column, a DataFrame is the whole table."
   ]
  },
  {
   "cell_type": "code",
   "execution_count": 38,
   "id": "f6889321-7ddc-4978-b182-50e7c8f0c035",
   "metadata": {},
   "outputs": [
    {
     "data": {
      "text/html": [
       "<div>\n",
       "<style scoped>\n",
       "    .dataframe tbody tr th:only-of-type {\n",
       "        vertical-align: middle;\n",
       "    }\n",
       "\n",
       "    .dataframe tbody tr th {\n",
       "        vertical-align: top;\n",
       "    }\n",
       "\n",
       "    .dataframe thead th {\n",
       "        text-align: right;\n",
       "    }\n",
       "</style>\n",
       "<table border=\"1\" class=\"dataframe\">\n",
       "  <thead>\n",
       "    <tr style=\"text-align: right;\">\n",
       "      <th></th>\n",
       "      <th>fruits</th>\n",
       "      <th>cars</th>\n",
       "    </tr>\n",
       "  </thead>\n",
       "  <tbody>\n",
       "    <tr>\n",
       "      <th>0</th>\n",
       "      <td>apple</td>\n",
       "      <td>suv</td>\n",
       "    </tr>\n",
       "    <tr>\n",
       "      <th>1</th>\n",
       "      <td>orange</td>\n",
       "      <td>sedan</td>\n",
       "    </tr>\n",
       "  </tbody>\n",
       "</table>\n",
       "</div>"
      ],
      "text/plain": [
       "   fruits   cars\n",
       "0   apple    suv\n",
       "1  orange  sedan"
      ]
     },
     "execution_count": 38,
     "metadata": {},
     "output_type": "execute_result"
    }
   ],
   "source": [
    "#creating a dataframe from a dictionary\n",
    "mydf = pd.DataFrame(my_dic)\n",
    "mydf"
   ]
  },
  {
   "cell_type": "code",
   "execution_count": 40,
   "id": "2f494f9b-57dc-4bf3-ad60-f3ffc576e759",
   "metadata": {},
   "outputs": [
    {
     "data": {
      "text/plain": [
       "fruits    apple\n",
       "cars        suv\n",
       "Name: 0, dtype: object"
      ]
     },
     "execution_count": 40,
     "metadata": {},
     "output_type": "execute_result"
    }
   ],
   "source": [
    "mydf.loc[0]"
   ]
  },
  {
   "cell_type": "code",
   "execution_count": 43,
   "id": "482d419e-e83a-4547-9080-7c4035c7db5d",
   "metadata": {},
   "outputs": [
    {
     "data": {
      "text/html": [
       "<div>\n",
       "<style scoped>\n",
       "    .dataframe tbody tr th:only-of-type {\n",
       "        vertical-align: middle;\n",
       "    }\n",
       "\n",
       "    .dataframe tbody tr th {\n",
       "        vertical-align: top;\n",
       "    }\n",
       "\n",
       "    .dataframe thead th {\n",
       "        text-align: right;\n",
       "    }\n",
       "</style>\n",
       "<table border=\"1\" class=\"dataframe\">\n",
       "  <thead>\n",
       "    <tr style=\"text-align: right;\">\n",
       "      <th></th>\n",
       "      <th>fruits</th>\n",
       "      <th>cars</th>\n",
       "    </tr>\n",
       "  </thead>\n",
       "  <tbody>\n",
       "    <tr>\n",
       "      <th>0</th>\n",
       "      <td>apple</td>\n",
       "      <td>suv</td>\n",
       "    </tr>\n",
       "    <tr>\n",
       "      <th>1</th>\n",
       "      <td>orange</td>\n",
       "      <td>sedan</td>\n",
       "    </tr>\n",
       "  </tbody>\n",
       "</table>\n",
       "</div>"
      ],
      "text/plain": [
       "   fruits   cars\n",
       "0   apple    suv\n",
       "1  orange  sedan"
      ]
     },
     "execution_count": 43,
     "metadata": {},
     "output_type": "execute_result"
    }
   ],
   "source": [
    "mydf.loc[[0,1]]"
   ]
  },
  {
   "cell_type": "code",
   "execution_count": null,
   "id": "7a9a4581-59cf-42f1-bb64-ebe5c61698e5",
   "metadata": {},
   "outputs": [],
   "source": []
  }
 ],
 "metadata": {
  "kernelspec": {
   "display_name": "Python 3 (ipykernel)",
   "language": "python",
   "name": "python3"
  },
  "language_info": {
   "codemirror_mode": {
    "name": "ipython",
    "version": 3
   },
   "file_extension": ".py",
   "mimetype": "text/x-python",
   "name": "python",
   "nbconvert_exporter": "python",
   "pygments_lexer": "ipython3",
   "version": "3.10.5"
  }
 },
 "nbformat": 4,
 "nbformat_minor": 5
}
